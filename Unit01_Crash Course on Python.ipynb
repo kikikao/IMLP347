{
 "cells": [
  {
   "cell_type": "markdown",
   "metadata": {},
   "source": [
    "# Python programming \n",
    "## Crash Course on Python Coding Practice\n",
    "\n",
    "No matter the level of mastery you hope to get to in Python,<br> \n",
    "you'll need these fundamentals in place before you jump into any project.<br><br>\n",
    "\n",
    "You need to know how to:\n",
    "\n",
    "- declare variables\n",
    "- collect user input\n",
    "- store information\n",
    "- repeat an action through loops\n",
    "- write functions to repeat blocks of code\n"
   ]
  },
  {
   "cell_type": "markdown",
   "metadata": {},
   "source": [
    "### 01 - 奇偶數辨別（Odd or even）\n",
    "#### 當使用者輸入一個的數字，它能夠辨別奇偶，並輸出檢驗結果給使用者。\n",
    "\n",
    "> 題目：輸入一數字判斷奇數或偶數<br>\n",
    "輸入(Input): 一個數字 <br>\n",
    "輸出(Output):奇數或偶數\n",
    "\n",
    "* 進階: 可以限制輸入一個介於一定範圍（例如 1 到 1000）的數字"
   ]
  },
  {
   "cell_type": "code",
   "execution_count": 11,
   "metadata": {},
   "outputs": [
    {
     "name": "stdin",
     "output_type": "stream",
     "text": [
      "請輸入一個數字 abc\n"
     ]
    },
    {
     "name": "stdout",
     "output_type": "stream",
     "text": [
      "請輸入正確的數字！\n"
     ]
    },
    {
     "name": "stdin",
     "output_type": "stream",
     "text": [
      "請輸入一個數字 c\n"
     ]
    },
    {
     "name": "stdout",
     "output_type": "stream",
     "text": [
      "請輸入正確的數字！\n"
     ]
    },
    {
     "name": "stdin",
     "output_type": "stream",
     "text": [
      "請輸入一個數字 301\n"
     ]
    },
    {
     "name": "stdout",
     "output_type": "stream",
     "text": [
      "這是奇數\n"
     ]
    }
   ],
   "source": [
    "#設立迴圈讓使用者要輸入數字/而非字串string,才能跳出迴圈\n",
    "\n",
    "while True:\n",
    "    try:\n",
    "        num=int(input(\"請輸入一個數字\"))\n",
    "        break\n",
    "    except:\n",
    "        print(\"請輸入正確的數字！\") \n",
    "\n",
    "\n",
    "if num % 2==0:\n",
    "    print(\"這是偶數\")\n",
    "else:\n",
    "    print(\"這是奇數\")\n",
    "\n",
    "\n"
   ]
  },
  {
   "cell_type": "markdown",
   "metadata": {},
   "source": [
    "#### 02 - 填字遊戲（Mad libs game）\n",
    "#### 使用者輸入任何字，它可以是名詞、形容詞、動詞、代名詞等。程式得到文字後，可自行排列，組成成一個模板故事。\n",
    "\n",
    "> 題目：輸入一數字判斷奇數或偶數<br>\n",
    "輸入(Input): 一連串依據說明輸入對應文字 <br>\n",
    "輸出(Output): 模板故事\n",
    "\n",
    "* 進階: 可以讓程式重複執行"
   ]
  },
  {
   "cell_type": "code",
   "execution_count": 39,
   "metadata": {},
   "outputs": [
    {
     "name": "stdin",
     "output_type": "stream",
     "text": [
      "請輸入課程期數: kiki\n",
      "請輸入課程名稱: KIki\n",
      "請輸入姓名: kiki\n",
      "請輸入您的背景(科系或職業): kiki\n",
      "請簡述對於本課程得期望(列出幾點修完課程想得到的技能/對自己未來的規劃): lolo\n"
     ]
    },
    {
     "name": "stdout",
     "output_type": "stream",
     "text": [
      "\n",
      "------------------------------------------\n",
      "第kiki期-KIki\n",
      "學員姓名: kiki\n",
      "學員背景: kiki\n",
      "\n",
      "------------------------------------------\n",
      "\n",
      "未來展望: lolo\n",
      "Great job!\n"
     ]
    }
   ],
   "source": [
    "def no_blank(\n",
    "\n",
    "期數= input(\"請輸入課程期數:\")\n",
    "名稱= input(\"請輸入課程名稱:\")\n",
    "姓名= input(\"請輸入姓名:\")\n",
    "\n",
    "背景= input(\"請輸入您的背景(科系或職業):\")\n",
    "規劃= input(\"請簡述對於本課程得期望(列出幾點修完課程想得到的技能/對自己未來的規劃):\")\n",
    "\n",
    "\n",
    "print(\"\\n------------------------------------------\")\n",
    "print(f\"第{期數}期-{名稱}\")\n",
    "print(f\"學員姓名: {姓名}\")\n",
    "print(f\"學員背景: {背景}\")\n",
    "\n",
    "print(\"\\n------------------------------------------\")\n",
    "print(f\"\\n未來展望: {規劃}\")\n",
    "print(\"Great job!\")\n",
    "\n",
    "\n",
    "\n",
    "       "
   ]
  },
  {
   "cell_type": "markdown",
   "metadata": {},
   "source": [
    "### 03 -  猜數字（Guess the number）\n",
    "#### 請使用者猜一個介於範圍（例如 1 到 100）之間的數字，\n",
    "#### 若使用者猜錯，就詢問他們想繼續玩還是退出；若使用者猜對，就顯示祝賀訊息，\n",
    "#### 並統計使用者的嘗試次數。如果使用者輸入的數字超出設定範圍，就顯示錯誤提示。\n",
    "\n",
    "![](data\\guess.png)\n"
   ]
  },
  {
   "cell_type": "code",
   "execution_count": null,
   "metadata": {},
   "outputs": [],
   "source": [
    "import random\n",
    "answer=random.randint(1,99)\n",
    "\n",
    "min=0\n",
    "max=100\n",
    "count=0\n",
    "\n",
    "while True:\n",
    "    try:\n",
    "        print(f\"請輸入 {min} < ? < {max} 的數字: \", end=\"\")  # 接收用戶輸入並轉換為整數\n",
    "        guess = int(input())\n",
    "    except:\n",
    "        print(\"請輸入正整數\")\n",
    "        continue\n",
    "    \n",
    "    if answer > min and answer < max:\n",
    "        count += 1\n",
    "        \n",
    "        if guess == answer:\n",
    "            print(\"Bingo, you are right!\")\n",
    "            break  # 猜對時結束遊戲\n",
    "        elif guess < answer:\n",
    "            min=guess\n",
    "            print(f\"猜太小,你猜了 {count} 次\")  # 正確的格式化字符串\n",
    "        else:\n",
    "            max=guess\n",
    "            print(f\"猜太大,你猜了 {count} 次\")  # 正確的格式化字符串\n",
    "\n",
    "    else:\n",
    "        print(\"請輸入範圍內的數字！\")\n",
    "\n",
    "\n",
    "\n",
    "\n",
    "\n"
   ]
  },
  {
   "cell_type": "markdown",
   "metadata": {},
   "source": [
    "### 04 - 計算字數（Word count）\n",
    "#### 使用者輸入一段文字或讀取一檔案，程式統計字數。\n",
    "\n",
    "> 輸入(Input):我要成為寫程式的專家 <br>\n",
    "輸出(Output):你用了 10 個文字述說內心的想法\n",
    "\n",
    "#### 在特定的文章字串中搜尋輸入的特定字，請使用者輸入欲搜尋的文字，印出總共有幾個。<br>\n",
    ">輸入(Input):天<br>\n",
    "輸出(Output): 9\n",
    "\n",
    "* 進階:計算文章中去除標點符號後的字數，找出文章中出現最多的字與次數"
   ]
  },
  {
   "cell_type": "code",
   "execution_count": 3,
   "metadata": {},
   "outputs": [
    {
     "name": "stdin",
     "output_type": "stream",
     "text": [
      "請輸入一段文字 楊家有女初長成\n"
     ]
    },
    {
     "name": "stdout",
     "output_type": "stream",
     "text": [
      "你用了7個字\n"
     ]
    }
   ],
   "source": [
    "word=input(\"請輸入一段文字\")\n",
    "length=len(word)\n",
    "print(f\"你用了{length}個字\")\n",
    "\n",
    "\n"
   ]
  },
  {
   "cell_type": "code",
   "execution_count": 7,
   "metadata": {},
   "outputs": [
    {
     "name": "stdin",
     "output_type": "stream",
     "text": [
      "請輸入一段文字 '''漢皇重色思傾國，御宇多年求不得。  楊家有女初長成，養在深閏人未識。  天生麗質難自棄，一朝選在君王側。  回眸一笑百媚生，六宮粉黛無顏色。  春寒賜浴華清池，溫泉水滑洗凝脂；  侍兒扶起嬌無力，始是新承恩澤時。  雲鬢花顏金步搖，芙蓉帳暖度春宵；  春宵苦短日高起，從此君王不早朝。  承歡侍宴無閑暇，春從春遊夜專夜。\n"
     ]
    },
    {
     "name": "stdout",
     "output_type": "stream",
     "text": [
      "你用了163個字\n"
     ]
    }
   ],
   "source": [
    "import re\n",
    "\n",
    "word=input(\"請輸入一段文字\")\n",
    "clean_text=re.sub(r'[。，\\n；：？「」]', '', word)\n",
    "length=len(word)\n",
    "print(f\"你用了{length}個字\")\n",
    "\n",
    "\n"
   ]
  },
  {
   "cell_type": "code",
   "execution_count": 29,
   "metadata": {},
   "outputs": [
    {
     "name": "stdout",
     "output_type": "stream",
     "text": [
      "你用了 1081 個文字述說內心的想法\n",
      "---------------------------------------\n",
      "漢皇重色思傾國 御宇多年求不得 \n",
      "\n",
      "楊家有女初長成 養在深閏人未識 \n",
      "\n",
      "天生麗質難自棄 一朝選在君王側 \n",
      "\n",
      "回眸一笑百媚生 六宮粉黛無顏色 \n",
      "\n",
      "春寒賜浴華清池 溫泉水滑洗凝脂 \n",
      "\n",
      "侍兒扶起嬌無力 始是新承恩澤時 \n",
      "\n",
      "雲鬢花顏金步搖 芙蓉帳暖度春宵 \n",
      "\n",
      "春宵苦短日高起 從此君王不早朝 \n",
      "\n",
      "承歡侍宴無閑暇 春從春遊夜專夜 \n",
      "\n",
      "後宮佳麗三千人 三千寵愛在一身 \n",
      "\n",
      "金屋妝成嬌侍夜 玉樓宴罷醉和春 \n",
      "\n",
      "姊妹弟兄皆列士 可憐光彩生門戶 \n",
      "\n",
      "遂令天下父母心 不重生男重生女 \n",
      "\n",
      "驪宮高處入青雲 仙樂風飄處處聞 \n",
      "\n",
      "緩歌慢舞凝絲竹 盡日君王看不足 \n",
      "\n",
      "漁陽鼙鼓動地來 驚破霓裳羽衣曲 \n",
      "\n",
      "九重城闕煙塵生 千乘萬騎西南行 \n",
      "\n",
      "翠華搖搖行復止 西出都門百餘里 \n",
      "\n",
      "六軍不發無奈何 宛轉蛾眉馬前死 \n",
      "\n",
      "花鈿委地無人收 翠翹金雀玉搔頭 \n",
      "\n",
      "君王掩面救不得 回看血淚相和流 \n",
      "\n",
      "黃埃散漫風蕭索 雲棧縈紆登劍閣 \n",
      "\n",
      "峨嵋山下少人行 旌旗無光日色薄 \n",
      "\n",
      "蜀江水碧蜀山青 聖主朝朝暮暮情 \n",
      "\n",
      "行宮見月傷心色 夜雨聞鈴腸斷聲 \n",
      "\n",
      "天旋地轉迴龍馭 到此躊躇不能去 \n",
      "\n",
      "馬嵬坡下泥土中 不見玉顏空死處 \n",
      "\n",
      "君臣相顧盡霑衣 東望都門信馬歸 \n",
      "\n",
      "歸來池苑皆依舊 太液芙蓉未央柳 \n",
      "\n",
      "芙蓉如面柳如眉 對此如何不淚垂 \n",
      "\n",
      "春風桃李花開日 秋雨梧桐葉落時 \n",
      "\n",
      "西宮南內多秋草 落葉滿階紅不掃 \n",
      "\n",
      "梨園子弟白髮新 椒房阿監青娥老 \n",
      "\n",
      "夕殿螢飛思悄然 孤燈挑盡未成眠 \n",
      "\n",
      "遲遲鐘鼓初長夜 耿耿星河欲曙天 \n",
      "\n",
      "鴛鴦瓦冷霜華重 翡翠衾寒誰與共 \n",
      "\n",
      "悠悠生死別經年 魂魄不曾來入夢 \n",
      "\n",
      "臨邛道士鴻都客 能以精誠致魂魄 \n",
      "\n",
      "為感君王輾轉思 遂教方士殷勤覓 \n",
      "\n",
      "排空馭氣奔如電 升天入地求之遍 \n",
      "\n",
      "上窮碧落下黃泉 兩處茫茫皆不見 \n",
      "\n",
      "忽聞海上有仙山 山在虛無縹緲間 \n",
      "\n",
      "樓閣玲瓏五雲起 其中綽約多仙子 \n",
      "\n",
      "中有一人字太真 雪膚花貌參差是 \n",
      "\n",
      "金闕西廂叩玉扃 轉教小玉報雙成 \n",
      "\n",
      "聞道漢家天子使 九華帳裡夢魂驚 \n",
      "\n",
      "攬衣推枕起徘徊 珠箔銀屏迤邐開 \n",
      "\n",
      "雲鬢半偏新睡覺 花冠不整下堂來 \n",
      "\n",
      "風吹仙袂飄飄舉 猶似霓裳羽衣舞 \n",
      "\n",
      "玉容寂寞淚闌干 梨花一枝春帶雨 \n",
      "\n",
      "含情凝睇謝君王 一別音容兩渺茫 \n",
      "\n",
      "昭陽殿裡恩愛絕 蓬萊宮中日月長 \n",
      "\n",
      "回頭下望人寰處 不見長安見塵霧 \n",
      "\n",
      "唯將舊物表深情 鈿合金釵寄將去 \n",
      "\n",
      "釵留一股合一扇 釵擘黃金合分鈿 \n",
      "\n",
      "但教心似金鈿堅 天上人間會相見 \n",
      "\n",
      "臨別殷勤重寄詞 詞中有誓兩心知 \n",
      "\n",
      "七月七日長生殿 夜半無人私語時  \n",
      "\n",
      "在天願作比翼鳥 在地願為連理枝  \n",
      "\n",
      "天長地久有時盡 此恨綿綿無絕期 \n",
      "\n"
     ]
    }
   ],
   "source": [
    "s = '''漢皇重色思傾國，御宇多年求不得。\n",
    "\n",
    "楊家有女初長成，養在深閏人未識。\n",
    "\n",
    "天生麗質難自棄，一朝選在君王側。\n",
    "\n",
    "回眸一笑百媚生，六宮粉黛無顏色。\n",
    "\n",
    "春寒賜浴華清池，溫泉水滑洗凝脂；\n",
    "\n",
    "侍兒扶起嬌無力，始是新承恩澤時。\n",
    "\n",
    "雲鬢花顏金步搖，芙蓉帳暖度春宵；\n",
    "\n",
    "春宵苦短日高起，從此君王不早朝。\n",
    "\n",
    "承歡侍宴無閑暇，春從春遊夜專夜。\n",
    "\n",
    "後宮佳麗三千人，三千寵愛在一身。\n",
    "\n",
    "金屋妝成嬌侍夜，玉樓宴罷醉和春。\n",
    "\n",
    "姊妹弟兄皆列士，可憐光彩生門戶。\n",
    "\n",
    "遂令天下父母心，不重生男重生女。\n",
    "\n",
    "驪宮高處入青雲，仙樂風飄處處聞。\n",
    "\n",
    "緩歌慢舞凝絲竹，盡日君王看不足。\n",
    "\n",
    "漁陽鼙鼓動地來，驚破霓裳羽衣曲。\n",
    "\n",
    "九重城闕煙塵生，千乘萬騎西南行。\n",
    "\n",
    "翠華搖搖行復止，西出都門百餘里；\n",
    "\n",
    "六軍不發無奈何？宛轉蛾眉馬前死。\n",
    "\n",
    "花鈿委地無人收，翠翹金雀玉搔頭。\n",
    "\n",
    "君王掩面救不得，回看血淚相和流。\n",
    "\n",
    "黃埃散漫風蕭索，雲棧縈紆登劍閣。\n",
    "\n",
    "峨嵋山下少人行，旌旗無光日色薄。\n",
    "\n",
    "蜀江水碧蜀山青，聖主朝朝暮暮情。\n",
    "\n",
    "行宮見月傷心色，夜雨聞鈴腸斷聲。\n",
    "\n",
    "天旋地轉迴龍馭，到此躊躇不能去。\n",
    "\n",
    "馬嵬坡下泥土中，不見玉顏空死處。\n",
    "\n",
    "君臣相顧盡霑衣，東望都門信馬歸。\n",
    "\n",
    "歸來池苑皆依舊，太液芙蓉未央柳；\n",
    "\n",
    "芙蓉如面柳如眉，對此如何不淚垂？\n",
    "\n",
    "春風桃李花開日，秋雨梧桐葉落時。\n",
    "\n",
    "西宮南內多秋草，落葉滿階紅不掃。\n",
    "\n",
    "梨園子弟白髮新，椒房阿監青娥老。\n",
    "\n",
    "夕殿螢飛思悄然，孤燈挑盡未成眠。\n",
    "\n",
    "遲遲鐘鼓初長夜，耿耿星河欲曙天。\n",
    "\n",
    "鴛鴦瓦冷霜華重，翡翠衾寒誰與共？\n",
    "\n",
    "悠悠生死別經年，魂魄不曾來入夢。\n",
    "\n",
    "臨邛道士鴻都客，能以精誠致魂魄；\n",
    "\n",
    "為感君王輾轉思，遂教方士殷勤覓。\n",
    "\n",
    "排空馭氣奔如電，升天入地求之遍；\n",
    "\n",
    "上窮碧落下黃泉，兩處茫茫皆不見。\n",
    "\n",
    "忽聞海上有仙山，山在虛無縹緲間。\n",
    "\n",
    "樓閣玲瓏五雲起，其中綽約多仙子。\n",
    "\n",
    "中有一人字太真，雪膚花貌參差是。\n",
    "\n",
    "金闕西廂叩玉扃，轉教小玉報雙成。\n",
    "\n",
    "聞道漢家天子使，九華帳裡夢魂驚；\n",
    "\n",
    "攬衣推枕起徘徊，珠箔銀屏迤邐開。\n",
    "\n",
    "雲鬢半偏新睡覺，花冠不整下堂來。\n",
    "\n",
    "風吹仙袂飄飄舉，猶似霓裳羽衣舞。\n",
    "\n",
    "玉容寂寞淚闌干，梨花一枝春帶雨。\n",
    "\n",
    "含情凝睇謝君王，一別音容兩渺茫。\n",
    "\n",
    "昭陽殿裡恩愛絕，蓬萊宮中日月長。\n",
    "\n",
    "回頭下望人寰處，不見長安見塵霧。\n",
    "\n",
    "唯將舊物表深情，鈿合金釵寄將去。\n",
    "\n",
    "釵留一股合一扇，釵擘黃金合分鈿。\n",
    "\n",
    "但教心似金鈿堅，天上人間會相見。\n",
    "\n",
    "臨別殷勤重寄詞，詞中有誓兩心知，\n",
    "\n",
    "七月七日長生殿，夜半無人私語時：「\n",
    "\n",
    "在天願作比翼鳥，在地願為連理枝。」\n",
    "\n",
    "天長地久有時盡，此恨綿綿無絕期。\n",
    "'''\n",
    "\n",
    "for astr in s:\n",
    "    s=s.replace(\"，\",\" \").replace(\"。\",\" \").replace(\"；\",\" \").replace(\"？\",\" \").replace(\"：\",\" \").replace(\"「\",\" \").replace(\"」\",\" \")\n",
    "    word=s\n",
    "print(\"你用了 %d 個文字述說內心的想法\"%(len(word)))\n",
    "print(\"---------------------------------------\")\n",
    "print(word)\n",
    "\n"
   ]
  },
  {
   "cell_type": "code",
   "execution_count": 129,
   "metadata": {},
   "outputs": [
    {
     "name": "stdout",
     "output_type": "stream",
     "text": [
      "漢皇重色思傾國御宇多年求不得楊家有女初長成養在深閏人未識天生麗質難自棄一朝選在君王側回眸一笑百媚生六宮粉黛無顏色春寒賜浴華清池溫泉水滑洗凝脂侍兒扶起嬌無力始是新承恩澤時雲鬢花顏金步搖芙蓉帳暖度春宵春宵苦短日高起從此君王不早朝承歡侍宴無閑暇春從春遊夜專夜後宮佳麗三千人三千寵愛在一身金屋妝成嬌侍夜玉樓宴罷醉和春姊妹弟兄皆列士可憐光彩生門戶遂令天下父母心不重生男重生女驪宮高處入青雲仙樂風飄處處聞緩歌慢舞凝絲竹盡日君王看不足漁陽鼙鼓動地來驚破霓裳羽衣曲九重城闕煙塵生千乘萬騎西南行翠華搖搖行復止西出都門百餘里六軍不發無奈何宛轉蛾眉馬前死花鈿委地無人收翠翹金雀玉搔頭君王掩面救不得回看血淚相和流黃埃散漫風蕭索雲棧縈紆登劍閣峨嵋山下少人行旌旗無光日色薄蜀江水碧蜀山青聖主朝朝暮暮情行宮見月傷心色夜雨聞鈴腸斷聲天旋地轉迴龍馭到此躊躇不能去馬嵬坡下泥土中不見玉顏空死處君臣相顧盡霑衣東望都門信馬歸歸來池苑皆依舊太液芙蓉未央柳芙蓉如面柳如眉對此如何不淚垂春風桃李花開日秋雨梧桐葉落時西宮南內多秋草落葉滿階紅不掃梨園子弟白髮新椒房阿監青娥老夕殿螢飛思悄然孤燈挑盡未成眠遲遲鐘鼓初長夜耿耿星河欲曙天鴛鴦瓦冷霜華重翡翠衾寒誰與共悠悠生死別經年魂魄不曾來入夢臨邛道士鴻都客能以精誠致魂魄為感君王輾轉思遂教方士殷勤覓排空馭氣奔如電升天入地求之遍上窮碧落下黃泉兩處茫茫皆不見忽聞海上有仙山山在虛無縹緲間樓閣玲瓏五雲起其中綽約多仙子中有一人字太真雪膚花貌參差是金闕西廂叩玉扃轉教小玉報雙成聞道漢家天子使九華帳裡夢魂驚攬衣推枕起徘徊珠箔銀屏迤邐開雲鬢半偏新睡覺花冠不整下堂來風吹仙袂飄飄舉猶似霓裳羽衣舞玉容寂寞淚闌干梨花一枝春帶雨含情凝睇謝君王一別音容兩渺茫昭陽殿裡恩愛絕蓬萊宮中日月長回頭下望人寰處不見長安見塵霧唯將舊物表深情鈿合金釵寄將去釵留一股合一扇釵擘黃金合分鈿但教心似金鈿堅天上人間會相見臨別殷勤重寄詞詞中有誓兩心知七月七日長生殿夜半無人私語時在天願作比翼鳥在地願為連理枝天長地久有時盡此恨綿綿無絕期\n",
      "出現最多次的字是: 不\n",
      "出現次數: 14\n"
     ]
    }
   ],
   "source": [
    "\n",
    "s = '''漢皇重色思傾國，御宇多年求不得。\n",
    "\n",
    "楊家有女初長成，養在深閏人未識。\n",
    "\n",
    "天生麗質難自棄，一朝選在君王側。\n",
    "\n",
    "回眸一笑百媚生，六宮粉黛無顏色。\n",
    "\n",
    "春寒賜浴華清池，溫泉水滑洗凝脂；\n",
    "\n",
    "侍兒扶起嬌無力，始是新承恩澤時。\n",
    "\n",
    "雲鬢花顏金步搖，芙蓉帳暖度春宵；\n",
    "\n",
    "春宵苦短日高起，從此君王不早朝。\n",
    "\n",
    "承歡侍宴無閑暇，春從春遊夜專夜。\n",
    "\n",
    "後宮佳麗三千人，三千寵愛在一身。\n",
    "\n",
    "金屋妝成嬌侍夜，玉樓宴罷醉和春。\n",
    "\n",
    "姊妹弟兄皆列士，可憐光彩生門戶。\n",
    "\n",
    "遂令天下父母心，不重生男重生女。\n",
    "\n",
    "驪宮高處入青雲，仙樂風飄處處聞。\n",
    "\n",
    "緩歌慢舞凝絲竹，盡日君王看不足。\n",
    "\n",
    "漁陽鼙鼓動地來，驚破霓裳羽衣曲。\n",
    "\n",
    "九重城闕煙塵生，千乘萬騎西南行。\n",
    "\n",
    "翠華搖搖行復止，西出都門百餘里；\n",
    "\n",
    "六軍不發無奈何？宛轉蛾眉馬前死。\n",
    "\n",
    "花鈿委地無人收，翠翹金雀玉搔頭。\n",
    "\n",
    "君王掩面救不得，回看血淚相和流。\n",
    "\n",
    "黃埃散漫風蕭索，雲棧縈紆登劍閣。\n",
    "\n",
    "峨嵋山下少人行，旌旗無光日色薄。\n",
    "\n",
    "蜀江水碧蜀山青，聖主朝朝暮暮情。\n",
    "\n",
    "行宮見月傷心色，夜雨聞鈴腸斷聲。\n",
    "\n",
    "天旋地轉迴龍馭，到此躊躇不能去。\n",
    "\n",
    "馬嵬坡下泥土中，不見玉顏空死處。\n",
    "\n",
    "君臣相顧盡霑衣，東望都門信馬歸。\n",
    "\n",
    "歸來池苑皆依舊，太液芙蓉未央柳；\n",
    "\n",
    "芙蓉如面柳如眉，對此如何不淚垂？\n",
    "\n",
    "春風桃李花開日，秋雨梧桐葉落時。\n",
    "\n",
    "西宮南內多秋草，落葉滿階紅不掃。\n",
    "\n",
    "梨園子弟白髮新，椒房阿監青娥老。\n",
    "\n",
    "夕殿螢飛思悄然，孤燈挑盡未成眠。\n",
    "\n",
    "遲遲鐘鼓初長夜，耿耿星河欲曙天。\n",
    "\n",
    "鴛鴦瓦冷霜華重，翡翠衾寒誰與共？\n",
    "\n",
    "悠悠生死別經年，魂魄不曾來入夢。\n",
    "\n",
    "臨邛道士鴻都客，能以精誠致魂魄；\n",
    "\n",
    "為感君王輾轉思，遂教方士殷勤覓。\n",
    "\n",
    "排空馭氣奔如電，升天入地求之遍；\n",
    "\n",
    "上窮碧落下黃泉，兩處茫茫皆不見。\n",
    "\n",
    "忽聞海上有仙山，山在虛無縹緲間。\n",
    "\n",
    "樓閣玲瓏五雲起，其中綽約多仙子。\n",
    "\n",
    "中有一人字太真，雪膚花貌參差是。\n",
    "\n",
    "金闕西廂叩玉扃，轉教小玉報雙成。\n",
    "\n",
    "聞道漢家天子使，九華帳裡夢魂驚；\n",
    "\n",
    "攬衣推枕起徘徊，珠箔銀屏迤邐開。\n",
    "\n",
    "雲鬢半偏新睡覺，花冠不整下堂來。\n",
    "\n",
    "風吹仙袂飄飄舉，猶似霓裳羽衣舞。\n",
    "\n",
    "玉容寂寞淚闌干，梨花一枝春帶雨。\n",
    "\n",
    "含情凝睇謝君王，一別音容兩渺茫。\n",
    "\n",
    "昭陽殿裡恩愛絕，蓬萊宮中日月長。\n",
    "\n",
    "回頭下望人寰處，不見長安見塵霧。\n",
    "\n",
    "唯將舊物表深情，鈿合金釵寄將去。\n",
    "\n",
    "釵留一股合一扇，釵擘黃金合分鈿。\n",
    "\n",
    "但教心似金鈿堅，天上人間會相見。\n",
    "\n",
    "臨別殷勤重寄詞，詞中有誓兩心知，\n",
    "\n",
    "七月七日長生殿，夜半無人私語時：「\n",
    "\n",
    "在天願作比翼鳥，在地願為連理枝。」\n",
    "\n",
    "天長地久有時盡，此恨綿綿無絕期。\n",
    "'''\n",
    "s = s.replace(\"，\", \" \").replace(\"。\", \" \").replace(\"；\", \" \").replace(\"？\", \" \").replace(\"：\", \" \").replace(\"「\", \" \").replace(\"」\", \" \").replace(\"\\n\",\" \")\n",
    "#記得去除n\\代表是換行，不然最多字元出現的會是空白行句而不是字體\n",
    "s = s.replace(\" \", \"\") #去除空格\n",
    "\n",
    "max_count = 0  # 記錄出現最多次的字的次數\n",
    "max_word = \"\"  # 記錄出現最多次的字\n",
    "\n",
    "\n",
    "for astr in s:  # 遍歷字串中的每個字元\n",
    "    appear_time = s.count(astr)  # 計算該字元的出現次數\n",
    "\n",
    "    if appear_time > max_count:  # 如果該字元的出現次數大於目前最多的次數\n",
    "        max_count = appear_time  # 更新最大次數\n",
    "        max_word = astr  # 更新最多次出現的字\n",
    "\n",
    "print(s)\n",
    "print(\"出現最多次的字是:\", max_word)\n",
    "print(\"出現次數:\", max_count)\n"
   ]
  },
  {
   "cell_type": "markdown",
   "metadata": {},
   "source": [
    "### 05 - Email 域名判斷器（Email slicer）\n",
    "#### 請用戶輸入 Email 地址，然後判斷它是自定義域名還是熱門域名。\n",
    "\n",
    "> 題目：<br>\n",
    "輸入(Input):shelly200318@hotmail.com.tw  <br>\n",
    "輸出(Output):Your username is 'shelly200318' and your domain name is 'hotmail.com.tw' <br>\n",
    "\n",
    "\n",
    "* 進階：把常用的信箱存成字典，加入判斷是否為\n",
    ">輸入(Input):mary.jane@gmail.com  <br>\n",
    "輸出(Output):這是註冊在 Google 之下的 Email 地址 <br>\n",
    "輸入(Input):matt.pan@myfantasy.com  <br>\n",
    "輸出(Output):這是在 myfantasy 之下自定義域\n",
    "\n"
   ]
  },
  {
   "cell_type": "code",
   "execution_count": 156,
   "metadata": {},
   "outputs": [
    {
     "name": "stdin",
     "output_type": "stream",
     "text": [
      "請輸入完整的電子郵件 matt.pan@myfantasy.com\n"
     ]
    },
    {
     "name": "stdout",
     "output_type": "stream",
     "text": [
      "Your username is matt.panand your domain name is myfantasy\n",
      ":這是註冊在myfantasy之下的 Email 地址\n"
     ]
    }
   ],
   "source": [
    "#Get email address\n",
    "email=input(\"請輸入完整的電子郵件\").strip()\n",
    "\n",
    "#Get users name\n",
    "users_name=email[0:email.index(\"@\")] #index() 函數會回傳指定字符在字串中的索引位置\n",
    "\n",
    "#Get domain name\n",
    "domain_name=email[email.index(\"@\")+1:]\n",
    "domain_name=domain_name.split(\".\")[0]\n",
    "\n",
    "print(f\"Your username is {users_name}and your domain name is {domain_name}\")\n",
    "\n",
    "domain={\"gmail.com\":\"Google\",\"hotmail.com\":\"Yahoo\",\"outlook.com\": \"Microsoft\",\"ntu.com.tw\":\"NTU\"}\n",
    "\n",
    "if domain_name in domain:\n",
    "    print(f\":這是註冊在{domain[domain_name]}之下的 Email 地址\")\n",
    "else:\n",
    "    print(f\":這是註冊在{domain_name}之下的 Email 地址\")\n",
    "\n",
    "\n"
   ]
  },
  {
   "cell_type": "code",
   "execution_count": 170,
   "metadata": {},
   "outputs": [
    {
     "name": "stdin",
     "output_type": "stream",
     "text": [
      "請輸入完整的電子郵件 matt.pan@myfantasy.com\n"
     ]
    },
    {
     "name": "stdout",
     "output_type": "stream",
     "text": [
      "myfantasy.com\n",
      "['myfantasy', 'com']\n"
     ]
    },
    {
     "data": {
      "text/plain": [
       "'myfantasy'"
      ]
     },
     "execution_count": 170,
     "metadata": {},
     "output_type": "execute_result"
    }
   ],
   "source": [
    "#Get email address\n",
    "email=input(\"請輸入完整的電子郵件\").strip()\n",
    "\n",
    "#Get users name\n",
    "users_name=email[0:email.index(\"@\")] #index() 函數會回傳指定字符在字串中的索引位置\n",
    "\n",
    "#Get domain name\n",
    "domain_name1=email[email.index(\"@\")+1:]\n",
    "domain_name=domain_name1.split(\".\") #分割字串並且返回列表:[\"myfantasy\", \"com\"]\n",
    "\n",
    "\n",
    "print(domain_name1)\n",
    "print(domain_name)\n",
    "domain_name[0] #代表回傳list中第1個元素:[\"myfantasy\"]\n"
   ]
  },
  {
   "cell_type": "markdown",
   "metadata": {},
   "source": [
    "### 06 - 及格名單（Pass list）\n",
    "#### 請使用集合功能來完成各科級名單的判斷\n",
    "```\n",
    "米花市帝丹小學一年级B班正舉辦期中考試\n",
    "數學及格的有：柯南、灰原、步美、美環、光彦\n",
    "英文及格的有：柯南、灰原、丸尾、野口、步美\n",
    "以上已列出全班所有人\n",
    "```\n",
    "\n",
    ">請分別列出<br>\n",
    "數學及格但英文不及格的同學名單<br>\n",
    "數學不及格但英文及格的同學名單<br>\n",
    "兩者皆及格名單<br>\n",
    "* Hint:差集(減法)、交集\n"
   ]
  },
  {
   "cell_type": "code",
   "execution_count": 172,
   "metadata": {},
   "outputs": [
    {
     "name": "stdout",
     "output_type": "stream",
     "text": [
      "數學及格但英文不及格的同學名單: {'光彦', '美環'}\n",
      "數學不及格但英文及格的同學名單: {'野口', '丸尾'}\n",
      "兩者皆及格名單: {'柯南', '灰原', '步美'}\n"
     ]
    }
   ],
   "source": [
    "# 數學及格的學生\n",
    "math_pass = {\"柯南\", \"灰原\", \"步美\", \"美環\", \"光彦\"}\n",
    "\n",
    "# 英文及格的學生\n",
    "english_pass = {\"柯南\", \"灰原\", \"丸尾\", \"野口\", \"步美\"}\n",
    "\n",
    "# 數學及格但英文不及格的學生 (數學集合 - 英文集合)\n",
    "math_only = math_pass - english_pass\n",
    "\n",
    "# 數學不及格但英文及格的學生 (英文集合 - 數學集合)\n",
    "english_only = english_pass - math_pass\n",
    "\n",
    "# 兩者皆及格的學生 (數學集合 ∩ 英文集合)\n",
    "both_pass = math_pass & english_pass\n",
    "\n",
    "# 輸出結果\n",
    "print(\"數學及格但英文不及格的同學名單:\", math_only)\n",
    "print(\"數學不及格但英文及格的同學名單:\", english_only)\n",
    "print(\"兩者皆及格名單:\", both_pass)"
   ]
  },
  {
   "cell_type": "markdown",
   "metadata": {},
   "source": [
    "### 07 - 查詢路徑下所有檔案\n",
    "#### 請使用者輸入路徑，自動抓取路徑下所有檔案名稱\n",
    "\n",
    ">輸入(Input):data\\testfile 或 D:\\code\\ML_202105\\data\\testfile  <br>\n",
    "輸出(Output):\n",
    "```\n",
    "I'm a directory: file1\n",
    "I'm a directory: file2\n",
    "I'm a File: hw_07945001.txt\n",
    "I'm a File: hw_079450010.doc\n",
    "I'm a File: hw_07945002.txt\n",
    "I'm a File: hw_07945003.txt\n",
    "I'm a File: hw_07945004.txt\n",
    "I'm a File: hw_07945005.txt\n",
    "I'm a File: hw_07945007.txt\n",
    "I'm a File: hw_07945008.txt\n",
    "I'm a File: hw_07945009.txt\n",
    "```\n",
    "\n",
    "* 進階: 把file的學號抓出來，另存成一個新的csv檔"
   ]
  },
  {
   "cell_type": "code",
   "execution_count": 1,
   "metadata": {},
   "outputs": [
    {
     "name": "stdin",
     "output_type": "stream",
     "text": [
      " /Users/Kiki/Downloads/Unit01-1/testfile\n"
     ]
    },
    {
     "name": "stdout",
     "output_type": "stream",
     "text": [
      "I'm a File: hw_079450010.doc\n",
      "I'm a File: .DS_Store\n",
      "I'm a directory: file2\n",
      "I'm a File: hw_07945009.txt\n",
      "I'm a File: hw_07945008.txt\n",
      "I'm a File: hw_07945007.txt\n",
      "I'm a File: hw_07945005.txt\n",
      "I'm a File: hw_07945004.txt\n",
      "I'm a File: hw_07945001.txt\n",
      "I'm a File: hw_07945003.txt\n",
      "I'm a directory: files\n",
      "I'm a File: hw_07945002.txt\n",
      "I'm a directory: file1\n"
     ]
    }
   ],
   "source": [
    "import os\n",
    "\n",
    "# 請使用者輸入或指定要查詢的路徑\n",
    "yourPath = input()\n",
    "# 列出指定路徑底下所有檔案(包含資料夾)\n",
    "allFileList = os.listdir(yourPath)\n",
    "\n",
    "# 逐一查詢檔案清單\n",
    "for file in allFileList:\n",
    "#   這邊也可以視情況，做檔案的操作(複製、讀取...等)\n",
    "#   使用isdir檢查是否為目錄\n",
    "#   使用join的方式把路徑與檔案名稱串起來(等同filePath+fileName)\n",
    "    if os.path.isdir(os.path.join(yourPath,file)):\n",
    "        print(\"I'm a directory: \" + file)\n",
    "    #   使用isfile判斷是否為檔案\n",
    "    elif os.path.isfile(os.path.join(yourPath,file)):\n",
    "        print(\"I'm a File: \" + file)\n"
   ]
  },
  {
   "cell_type": "code",
   "execution_count": 33,
   "metadata": {},
   "outputs": [
    {
     "name": "stdin",
     "output_type": "stream",
     "text": [
      " /Users/Kiki/Downloads/Unit01-1/testfile\n"
     ]
    },
    {
     "name": "stdout",
     "output_type": "stream",
     "text": [
      "I'm a File: hw_079450010.doc\n",
      "I'm a File: .DS_Store\n",
      "I'm a directory: file2\n",
      "I'm a File: hw_07945009.txt\n",
      "I'm a File: hw_07945008.txt\n",
      "I'm a File: hw_07945007.txt\n",
      "I'm a File: hw_07945005.txt\n",
      "I'm a File: hw_07945004.txt\n",
      "I'm a File: hw_07945001.txt\n",
      "I'm a File: hw_07945003.txt\n",
      "I'm a File: hw_07945002.txt\n",
      "I'm a directory: file1\n",
      "['hw_079450010.doc', '.DS_Store', 'hw_07945009.txt', 'hw_07945008.txt', 'hw_07945007.txt', 'hw_07945005.txt', 'hw_07945004.txt', 'hw_07945001.txt', 'hw_07945003.txt', 'hw_07945002.txt']\n",
      "['079450010', '', '07945009', '07945008', '07945007', '07945005', '07945004', '07945001', '07945003', '07945002']\n"
     ]
    }
   ],
   "source": [
    "import os\n",
    "\n",
    "# 請使用者輸入或指定要查詢的路徑\n",
    "yourPath = input()\n",
    "# 列出指定路徑底下所有檔案(包含資料夾)\n",
    "allFileList = os.listdir(yourPath)\n",
    "\n",
    "# 逐一查詢檔案清單\n",
    "filelist=[]\n",
    "studentID=[]\n",
    "for file in allFileList:\n",
    "\n",
    "    \n",
    "    if os.path.isdir(os.path.join(yourPath,file)):\n",
    "        print(\"I'm a directory: \" + file)\n",
    "   \n",
    "    elif os.path.isfile(os.path.join(yourPath,file)):  #使用isfile判斷是否為檔案\n",
    "        print(\"I'm a File: \" + file)\n",
    "        filelist.append(file)\n",
    "        studentID.append(file[file.index(\"_\")+1:file.index(\".\")])\n",
    "        \n",
    "print(filelist)\n",
    "print(studentID)\n",
    "    \n",
    "        \n"
   ]
  },
  {
   "cell_type": "markdown",
   "metadata": {},
   "source": [
    "### 08 - 資料夾管理(shutil)\n",
    "#### 說明 ####\n",
    "\n",
    "```\n",
    "在目前所在的目錄下建立一files資料夾\n",
    "\n",
    "令使用者輸入一數字N，並在files資料夾中建立f1, f2… fN等N個資料夾後列出files的資料夾內容\n",
    "\n",
    "將files資料夾裡的f1資料夾重新命名成folder1後再列出files的資料夾內容\n",
    "\n",
    "移除files資料夾中的folder1後再列出files的資料夾內容\n",
    "\n",
    "最後移除files資料夾\n",
    "※須先退出files資料夾(os.chdir(../)) ![image.png](attachment:image.png)\n",
    "```\n"
   ]
  },
  {
   "cell_type": "code",
   "execution_count": 57,
   "metadata": {},
   "outputs": [
    {
     "name": "stdout",
     "output_type": "stream",
     "text": [
      "/Users/Kiki/Downloads/Unit01-1/testfile\n"
     ]
    }
   ],
   "source": [
    "import os\n",
    "#確認目前工作的目錄\n",
    "\n",
    "os.chdir('/Users/Kiki/Downloads/Unit01-1/testfile')\n",
    "print(os.getcwd())\n",
    "\n"
   ]
  },
  {
   "cell_type": "code",
   "execution_count": 61,
   "metadata": {},
   "outputs": [
    {
     "name": "stdin",
     "output_type": "stream",
     "text": [
      " 3\n"
     ]
    },
    {
     "name": "stdout",
     "output_type": "stream",
     "text": [
      "['f1', 'f2', 'f3']\n"
     ]
    },
    {
     "name": "stdin",
     "output_type": "stream",
     "text": [
      "Enter test\n"
     ]
    },
    {
     "name": "stdout",
     "output_type": "stream",
     "text": [
      "['f2', 'f3', 'folder1']\n"
     ]
    },
    {
     "name": "stdin",
     "output_type": "stream",
     "text": [
      "Enter test\n"
     ]
    },
    {
     "name": "stdout",
     "output_type": "stream",
     "text": [
      "['f2', 'f3']\n"
     ]
    },
    {
     "name": "stdin",
     "output_type": "stream",
     "text": [
      "Enter test\n"
     ]
    }
   ],
   "source": [
    "import os\n",
    "import shutil\n",
    "\n",
    "#建立files資料夾\n",
    "if os.path.exists('files'):\n",
    "    shutil.rmtree('files') #shutil.rmtree:刪除有files的資料夾\n",
    "os.mkdir('files') #os.mkdir=make dir:創建資料夾(名為files)\n",
    "\n",
    "\n",
    "n = int(input())  # 嘗試將輸入轉為整數\n",
    "os.chdir(\"files \")  #os.chdir=change dir:切換目前資料夾至files\n",
    "\n",
    "for i in range(1,n+1):\n",
    "    os.mkdir(\"f\"+str(i))\n",
    "print(sorted(os.listdir())) #sorted() 代表將List進行排序\n",
    "a=input(\"Enter\") #暫停\n",
    "\n",
    "\n",
    "#將files資料夾裡的f1資料夾重新命名成folder1後,再列出files的資料夾內容\n",
    "\n",
    "os.rename(\"f1\",\"folder1\")\n",
    "print(sorted(os.listdir()))\n",
    "a=input(\"Enter\") #暫停\n",
    "\n",
    "#移除files資料夾中的folder1後再列出files的資料夾內容\n",
    "os.rmdir(\"folder1\")\n",
    "print(sorted(os.listdir()))\n",
    "a=input(\"Enter\") #暫停\n",
    "\n",
    "#最後移除files資料夾\n",
    "os.chdir(\"../\") #\"../\"代表會將當前工作目錄（current working directory）移動到上一層資料夾\n",
    "shutil.rmtree(\"files\")\n",
    "\n"
   ]
  },
  {
   "cell_type": "markdown",
   "metadata": {},
   "source": [
    "### 09 - 回文判斷（Is a palindrome）\n",
    "#### 請使用者輸入單字，判斷它是否為回文，也就是該單字前後對稱，例如 madam，從前讀到後或是從後讀到前的順序都是 madam。\n",
    "\n",
    "> 題目：<br>\n",
    "輸入(Input): 雨 滋 春 樹 碧 連 天  天 連 碧 樹 春 滋 雨 <br>\n",
    "輸出(Output):The text you have entered is a palindrome!<br>\n",
    "輸入(Input): 資工訓練班 <br>\n",
    "輸出(Output):The text you have entered is not a palindrome.\n"
   ]
  },
  {
   "cell_type": "code",
   "execution_count": 163,
   "metadata": {},
   "outputs": [
    {
     "name": "stdout",
     "output_type": "stream",
     "text": [
      "\n",
      "Palindrome checker\n"
     ]
    },
    {
     "name": "stdin",
     "output_type": "stream",
     "text": [
      "\n",
      "Please enter a word, phrase, or a sentence \n",
      "to check if it is a palindrome:  雨 滋 春 樹 碧 連 天 天 連 碧 樹 春 滋 雨\n"
     ]
    },
    {
     "name": "stdout",
     "output_type": "stream",
     "text": [
      "The text you have entered is a palindrome!\n"
     ]
    }
   ],
   "source": [
    "def convertInputString():\n",
    "    #請使用者輸入一串字串，先轉換字串為統一小寫\n",
    "    rawInput = input(\"\\nPlease enter a word, phrase, or a sentence \\nto check if it is a palindrome: \") \n",
    "    rawString=rawInput.lower() #將英文轉為小寫字母\n",
    "    rawList=list(rawString) #將字串轉為list列表\n",
    "    return rawList\n",
    "\n",
    "def stripAnalphabetics(dirtyList): \n",
    "    analphabeticList = [\" \", \"-\", \".\", \",\", \":\", \";\", \"!\", \"?\", \"'\", \"\\\"\",\"/\", \"\\\\\"] \n",
    "    #去除相關標點符號\n",
    "    for character in analphabeticList:\n",
    "        while character in dirtyList: #用while遞迴函數,確認只要character有出現在dirtyList,就要一直被remove,確保假設某標點符號出現1次以上\n",
    "            dirtyList.remove(character)\n",
    "    return dirtyList\n",
    "\n",
    "def runPalindromeCheck(straightList):\n",
    "    reversedList = straightList[::-1] #反轉列表\n",
    "    if  reversedList == straightList: \n",
    "        return \"The text you have entered is a palindrome!\" \n",
    "    else: \n",
    "        return \"The text you have entered is not a palindrome.\" \n",
    "\n",
    "def main(): \n",
    "    print(\"\\nPalindrome checker\") \n",
    "    originalList = convertInputString()  # 取得使用者輸入並轉為列表\n",
    "    \n",
    "    originalList = stripAnalphabetics(originalList)  \n",
    "    # dirtyList只是 stripAnalphabetics 函數內部使用的參數名稱，我們現在有新的要丟進去的變數, 所以把originalList丟進去就好,目的是去除標點符號\n",
    "    \n",
    "    palindromeCheck = runPalindromeCheck(originalList)  # 檢查是否為回文\n",
    "    print(palindromeCheck)  # 輸出結果\n",
    "\n",
    "\n",
    "main() "
   ]
  },
  {
   "cell_type": "code",
   "execution_count": 141,
   "metadata": {},
   "outputs": [
    {
     "data": {
      "text/plain": [
       "['雨', '滋', '春', '樹', '碧', '連', '天', '天', '連', '碧', '樹', '春', '滋', '雨']"
      ]
     },
     "execution_count": 141,
     "metadata": {},
     "output_type": "execute_result"
    }
   ],
   "source": [
    "#另一種寫法:  List Comprehension（列表推導式)\n",
    "\n",
    "def stripAnalphabetics(dirtyList): \n",
    "    analphabeticList = [\" \", \"-\", \".\", \",\", \":\", \";\", \"!\", \"?\", \"'\", \"\\\"\",\"/\", \"\\\\\"] \n",
    "    #去除相關標點符號\n",
    "    return [char for char in dirtyList if char not in analphabeticList] \n",
    "    #從 dirtyList 裡挑出那些不在 analphabeticList 裡的字元，然後組成一個新的列表。\n",
    "\n",
    "\n",
    "dirtyList= [\"雨\", \" \", \"滋\", \"!\", \"春\", \"樹\", \",\", \"碧\", \"連\", \"天\", \"天\", \"連\", \"碧\", \"樹\", \"春\", \"滋\", \"雨\", \"?\", \"/\", \"\\\\\",\"!\", \"!\", \"!\"]\n",
    "stripAnalphabetics(dirtyList)"
   ]
  },
  {
   "cell_type": "code",
   "execution_count": 169,
   "metadata": {},
   "outputs": [
    {
     "name": "stdout",
     "output_type": "stream",
     "text": [
      "[8, 7, 6, 5, 4, 3, 2, 1]\n",
      "[4, 3, 2, 1]\n"
     ]
    }
   ],
   "source": [
    "#翻轉列表:\n",
    "\n",
    "list=[1,2,3,4,5,6,7,8]\n",
    "\n",
    "reverse_list=list[::-1]\n",
    "reverse_list2=list[3::-1]\n",
    "\n",
    "print(reverse_list)\n",
    "print(reverse_list2)\n"
   ]
  },
  {
   "cell_type": "markdown",
   "metadata": {},
   "source": [
    "### 10 - 總成績計算\n",
    "#### 說明 ####\n",
    "\n",
    "請讀取 `data/english_list.csv`與`data/math_list.csv`檔案(`utf-8`)後，將每位同學的英文與數學成績加總起來，並將檔案寫入至 `./Score.csv`中，編碼成`utf-8`<br>\n",
    "最後列印出每位學生姓名與加總後的分數<br>\n",
    "<a href=\"data\\english_list.csv\">英文成績下載</a><br>\n",
    "<a href=\"data\\math_list.csv\">數學成績下載</a><br>\n",
    "\n",
    "#### Input Format ####\n",
    "\n",
    "<br>\n",
    "csv資料(英文成績)<br>\n",
    "csv資料(數學成績)<br>\n",
    "<br>\n",
    "\n",
    "#### Output Format ####\n",
    "\n",
    "<br>\n",
    "\n",
    "![](data\\05.JPG)<br>\n",
    "<br>\n",
    "<br>\n",
    "(圖片參考用 以文字敘述為準)<br>\n",
    "\n",
    "\n",
    "\n",
    "\n",
    "#### Sample Input 1####\n",
    "\n",
    "\n",
    "\n",
    "```\n",
    "無標準輸入，只有檔案輸入\n",
    "```\n",
    "\n",
    "\n",
    "\n",
    "#### Sample Output 1####\n",
    "\n",
    "\n",
    "```\n",
    "廖冠霖 142\n",
    "王力中 124\n",
    "張平舜 108\n",
    ".\n",
    ".\n",
    ".\n",
    ".\n",
    ".\n",
    "陳姿茜 77\n",
    "涂珮瑜 134\n",
    "夏明哲 111\n",
    "\n",
    "```\n",
    "\n",
    "\n",
    "#### Hint ####\n",
    "\n",
    "\n",
    "\n",
    "```\n",
    "None\n",
    "```\n"
   ]
  },
  {
   "cell_type": "code",
   "execution_count": 227,
   "metadata": {},
   "outputs": [
    {
     "name": "stdout",
     "output_type": "stream",
     "text": [
      "['\\ufeff姓名', '廖冠霖', '王力中', '張平舜', '洪婷婷', '林士雨', '陳宗翰', '洪偉珊', '顏又芹', '王亦夏', '姚成華', '潘詠月', '倪浩迪', '郭心怡', '黃政聖', '顏曉雲', '彭曉雯', '葉健仁', '賴軒年', '韓致遠', '陳常芝', '黃佩樺', '林詩虹', '黃心卿', '郭奕全', '游子揚', '杜茜行', '李美一', '陳姿茜', '涂珮瑜', '夏明哲']\n",
      "['英文', '76', '51', '93', '46', '7', '13', '81', '27', '18', '39', '58', '74', '86', '75', '94', '30', '70', '97', '3', '22', '34', '92', '21', '7', '97', '37', '42', '43', '42', '90']\n",
      "142\n"
     ]
    }
   ],
   "source": [
    "import xlwings as xw\n",
    "\n",
    "English_test=open(\"/Users/Kiki/Downloads/Unit01-1/data/english_list.csv\",\"r\",encoding='UTF-8')\n",
    "Math_test = open(\"/Users/Kiki/Downloads/Unit01-1/data/math_list.csv\",\"r\",encoding='UTF-8')\n",
    "\n",
    "name=[]\n",
    "#處理英文:\n",
    "listE=[]\n",
    "for line in English_test.readlines():\n",
    "    line=line.strip().split(\",\")\n",
    "    name.append(line[0])\n",
    "    listE.append(line[1])\n",
    "\n",
    "print(name)\n",
    "print(listE)\n",
    "\n",
    "#處理數學:\n",
    "listM=[]\n",
    "for line in Math_test.readlines():\n",
    "    line=line.strip().split(\",\")\n",
    "    listM.append(line[1])\n",
    "\n",
    "\n",
    "print(int(listM[1])+int(listE[1]))\n",
    "\n",
    "#列印出每位學生姓名與加總後的英文+數學分數\n",
    "output_file = \"/Users/Kiki/Downloads/Unit01-1/data/students_scores.xlsx\"\n",
    "\n",
    "wb=xw.Book()\n",
    "sheet = wb.sheets[0]\n",
    "sheet.range(\"A1\").value = \"姓名\"\n",
    "sheet.range(\"B1\").value = \"成績加總\"\n",
    "\n",
    "for i in range(1,len(name)):\n",
    "    sheet.range(f\"A{i+1}\").value = name[i]\n",
    "\n",
    "for i in range(1,len(name)):\n",
    "    sheet.range(f\"B{i+1}\").value = int(listM[i])+int(listE[i])\n",
    "\n",
    "wb.save(output_file)\n",
    "wb.close()\n",
    "\n",
    "\n",
    "\n",
    "\n",
    "English_test.close()\n",
    "Math_test.close()"
   ]
  },
  {
   "cell_type": "code",
   "execution_count": null,
   "metadata": {},
   "outputs": [],
   "source": []
  }
 ],
 "metadata": {
  "kernelspec": {
   "display_name": "Python 3 (ipykernel)",
   "language": "python",
   "name": "python3"
  },
  "language_info": {
   "codemirror_mode": {
    "name": "ipython",
    "version": 3
   },
   "file_extension": ".py",
   "mimetype": "text/x-python",
   "name": "python",
   "nbconvert_exporter": "python",
   "pygments_lexer": "ipython3",
   "version": "3.12.4"
  }
 },
 "nbformat": 4,
 "nbformat_minor": 4
}
